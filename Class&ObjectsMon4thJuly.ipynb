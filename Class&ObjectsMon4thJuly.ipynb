{
 "cells": [
  {
   "cell_type": "code",
   "execution_count": 5,
   "id": "87fc7d87-398a-40eb-ae0d-2bfc886d75ff",
   "metadata": {},
   "outputs": [
    {
     "name": "stdout",
     "output_type": "stream",
     "text": [
      "So far 1\n",
      "So far 2\n",
      "So far 3\n"
     ]
    }
   ],
   "source": [
    "class PartyAnimal:\n",
    "    x=0\n",
    "    \n",
    "    def party(self):\n",
    "        self.x=self.x+1\n",
    "        print(\"So far\",self.x)\n",
    "an = PartyAnimal()\n",
    "an.party()\n",
    "an.party()\n",
    "an.party()\n",
    "#print(\"Type\", type(an))\n",
    "#print(\"Dir\", dir(an))"
   ]
  },
  {
   "cell_type": "code",
   "execution_count": 1,
   "id": "619ff932-2c16-467c-b43e-edd98592f78a",
   "metadata": {},
   "outputs": [
    {
     "name": "stdout",
     "output_type": "stream",
     "text": [
      "i am constructed\n",
      "so far 1\n",
      "so far 2\n",
      "i am destructed 2\n",
      "an contains 42\n"
     ]
    }
   ],
   "source": [
    "class partyanimal:\n",
    "    x=0\n",
    "    \n",
    "    def __init__(self):\n",
    "        print(\"i am constructed\")\n",
    "        \n",
    "    def party(self):\n",
    "        self.x=self.x+1\n",
    "        print(\"so far\",self.x)\n",
    "        \n",
    "    def __del__(self):\n",
    "        print(\"i am destructed\",self.x)\n",
    "        \n",
    "an=partyanimal()\n",
    "an.party()\n",
    "an.party()\n",
    "an=42\n",
    "print(\"an contains\",an)"
   ]
  },
  {
   "cell_type": "code",
   "execution_count": 2,
   "id": "56e149f8-feb6-410f-8139-187064b2150f",
   "metadata": {},
   "outputs": [
    {
     "name": "stdout",
     "output_type": "stream",
     "text": [
      "sally constructed\n",
      "jim constructed\n",
      "sally party count 1\n",
      "jim party count 1\n",
      "sally party count 2\n"
     ]
    }
   ],
   "source": [
    "class partyanimal:\n",
    "    \n",
    "    x=0\n",
    "    name=\"\"\n",
    "    \n",
    "    def __init__(self,z):\n",
    "        self.name=z\n",
    "        print(self.name,\"constructed\")\n",
    "        \n",
    "    def party(self):\n",
    "        self.x=self.x+1\n",
    "        print(self.name,\"party count\",self.x)\n",
    "\n",
    "s=partyanimal(\"sally\")\n",
    "j=partyanimal(\"jim\")\n",
    "\n",
    "s.party()\n",
    "j.party()\n",
    "s.party()"
   ]
  },
  {
   "cell_type": "code",
   "execution_count": null,
   "id": "ec352c6c-30f7-4e87-aafc-76c7e39c69d0",
   "metadata": {},
   "outputs": [],
   "source": []
  }
 ],
 "metadata": {
  "kernelspec": {
   "display_name": "Python 3 (ipykernel)",
   "language": "python",
   "name": "python3"
  },
  "language_info": {
   "codemirror_mode": {
    "name": "ipython",
    "version": 3
   },
   "file_extension": ".py",
   "mimetype": "text/x-python",
   "name": "python",
   "nbconvert_exporter": "python",
   "pygments_lexer": "ipython3",
   "version": "3.9.7"
  }
 },
 "nbformat": 4,
 "nbformat_minor": 5
}
