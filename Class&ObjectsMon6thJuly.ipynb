{
 "cells": [
  {
   "cell_type": "code",
   "execution_count": 1,
   "id": "fdd4c6d0-1db5-4fac-adb4-e568cdd72733",
   "metadata": {},
   "outputs": [
    {
     "name": "stdin",
     "output_type": "stream",
     "text": [
      "Enter side 1 :  3\n",
      "Enter side 2 :  4\n",
      "Enter side 3 :  5\n"
     ]
    },
    {
     "name": "stdout",
     "output_type": "stream",
     "text": [
      "Side 1 is 3.0\n",
      "Side 2 is 4.0\n",
      "Side 3 is 5.0\n",
      "The area of the triangle is 6.00\n"
     ]
    }
   ],
   "source": [
    "class Polygon:\n",
    "    def __init__(self, no_of_sides):\n",
    "        self.n = no_of_sides\n",
    "        self.sides = [0 for i in range(no_of_sides)]\n",
    "\n",
    "    def inputSides(self):\n",
    "        self.sides = [float(input(\"Enter side \"+str(i+1)+\" : \")) for i in range(self.n)]\n",
    "\n",
    "    def dispSides(self):\n",
    "        for i in range(self.n):\n",
    "            print(\"Side\",i+1,\"is\",self.sides[i])\n",
    "\n",
    "\n",
    "class Triangle(Polygon):\n",
    "    def __init__(self):\n",
    "        Polygon.__init__(self,3)\n",
    "\n",
    "    def findArea(self):\n",
    "        a, b, c = self.sides\n",
    "        # calculate the semi-perimeter\n",
    "        s = (a + b + c) / 2\n",
    "        area = (s*(s-a)*(s-b)*(s-c)) ** 0.5\n",
    "        print('The area of the triangle is %0.2f' %area)\n",
    "        \n",
    "class Rectangle(Polygon):\n",
    "    def __init__(self):\n",
    "        Polygon.__init__(self,2)\n",
    "\n",
    "    def findArea(self):\n",
    "        a, b= self.sides\n",
    "        # calculate the semi-perimeter\n",
    "        #s = (a + b + c) / 2\n",
    "        area = a*b\n",
    "        print('The area of the triangle is %0.2f' %area)\n",
    "t = Triangle()\n",
    "t.inputSides()\n",
    "t.dispSides()\n",
    "t.findArea()\n"
   ]
  },
  {
   "cell_type": "code",
   "execution_count": 4,
   "id": "4031132b-6e03-45da-abd7-8518d74d1908",
   "metadata": {},
   "outputs": [
    {
     "name": "stdin",
     "output_type": "stream",
     "text": [
      "Enter side 1 :  3\n"
     ]
    },
    {
     "name": "stdout",
     "output_type": "stream",
     "text": [
      "Side 1 is 3.0\n",
      "The area of the square is 9.00\n"
     ]
    }
   ],
   "source": [
    "class Polygon:\n",
    "    def __init__(self, no_of_sides):\n",
    "        self.n = no_of_sides\n",
    "        self.sides = [0 for i in range(no_of_sides)]\n",
    "\n",
    "    def inputSides(self):\n",
    "        self.sides = [float(input(\"Enter side \"+str(i+1)+\" : \")) for i in range(self.n)]\n",
    "\n",
    "    def dispSides(self):\n",
    "        for i in range(self.n):\n",
    "            print(\"Side\",i+1,\"is\",self.sides[i])\n",
    "\n",
    "\n",
    "class Triangle(Polygon):\n",
    "    def __init__(self):\n",
    "        Polygon.__init__(self,3)\n",
    "\n",
    "    def findArea(self):\n",
    "        a, b, c = self.sides\n",
    "        # calculate the semi-perimeter\n",
    "        s = (a + b + c) / 2\n",
    "        area = (s*(s-a)*(s-b)*(s-c)) ** 0.5\n",
    "        print('The area of the triangle is %0.2f' %area)\n",
    "        \n",
    "class Square(Polygon):\n",
    "    def __init__(self):\n",
    "        Polygon.__init__(self,1)\n",
    "\n",
    "    def findArea(self):\n",
    "        a = self.sides\n",
    "        # calculate the semi-perimeter\n",
    "        #s = (a + b + c) / 2\n",
    "        area = a[0]**2\n",
    "        print('The area of the square is %0.2f' %area)\n",
    "t= Square()\n",
    "#t = Triangle()\n",
    "t.inputSides()\n",
    "t.dispSides()\n",
    "t.findArea()\n",
    "\n"
   ]
  },
  {
   "cell_type": "code",
   "execution_count": 6,
   "id": "bc47933a-791d-4173-b2d7-2932b6731454",
   "metadata": {},
   "outputs": [
    {
     "name": "stdin",
     "output_type": "stream",
     "text": [
      "Enter side 1 :  4\n"
     ]
    },
    {
     "name": "stdout",
     "output_type": "stream",
     "text": [
      "Side 1 is 4.0\n",
      "The area of the circle is 50.24\n"
     ]
    }
   ],
   "source": [
    "class Polygon:\n",
    "    def __init__(self, no_of_sides):\n",
    "        self.n = no_of_sides\n",
    "        self.sides = [0 for i in range(no_of_sides)]\n",
    "\n",
    "    def inputSides(self):\n",
    "        self.sides = [float(input(\"Enter side \"+str(i+1)+\" : \")) for i in range(self.n)]\n",
    "\n",
    "    def dispSides(self):\n",
    "        for i in range(self.n):\n",
    "            print(\"Side\",i+1,\"is\",self.sides[i])\n",
    "\n",
    "\n",
    "class Triangle(Polygon):\n",
    "    def __init__(self):\n",
    "        Polygon.__init__(self,3)\n",
    "\n",
    "    def findArea(self):\n",
    "        a, b, c = self.sides\n",
    "        # calculate the semi-perimeter\n",
    "        s = (a + b + c) / 2\n",
    "        area = (s*(s-a)*(s-b)*(s-c)) ** 0.5\n",
    "        print('The area of the triangle is %0.2f' %area)\n",
    "        \n",
    "class Circle(Polygon):\n",
    "    def __init__(self):\n",
    "        Polygon.__init__(self,1)\n",
    "\n",
    "    def findArea(self):\n",
    "        a = self.sides\n",
    "        # calculate the semi-perimeter\n",
    "        #s = (a + b + c) / 2\n",
    "        area = (a[0]**2)*3.14\n",
    "        print('The area of the circle is %0.2f' %area)\n",
    "t= Circle()\n",
    "#t= Square()\n",
    "#t = Triangle()\n",
    "t.inputSides()\n",
    "t.dispSides()\n",
    "t.findArea()\n",
    "\n",
    "\n"
   ]
  },
  {
   "cell_type": "code",
   "execution_count": 7,
   "id": "65bacbc1-052c-42f5-a6c7-4708097dbac2",
   "metadata": {},
   "outputs": [
    {
     "name": "stdout",
     "output_type": "stream",
     "text": [
      "123\n",
      "345\n"
     ]
    },
    {
     "ename": "AttributeError",
     "evalue": "'Robot' object has no attribute '__c'",
     "output_type": "error",
     "traceback": [
      "\u001b[0;31m---------------------------------------------------------------------------\u001b[0m",
      "\u001b[0;31mAttributeError\u001b[0m                            Traceback (most recent call last)",
      "\u001b[0;32m/var/folders/gn/8jn72nls1tz200j_lxfxjr6w0000gn/T/ipykernel_1362/191838794.py\u001b[0m in \u001b[0;36m<module>\u001b[0;34m\u001b[0m\n\u001b[1;32m      8\u001b[0m \u001b[0mprint\u001b[0m\u001b[0;34m(\u001b[0m\u001b[0mobj\u001b[0m\u001b[0;34m.\u001b[0m\u001b[0ma\u001b[0m\u001b[0;34m)\u001b[0m\u001b[0;34m\u001b[0m\u001b[0;34m\u001b[0m\u001b[0m\n\u001b[1;32m      9\u001b[0m \u001b[0mprint\u001b[0m\u001b[0;34m(\u001b[0m\u001b[0mobj\u001b[0m\u001b[0;34m.\u001b[0m\u001b[0m_b\u001b[0m\u001b[0;34m)\u001b[0m\u001b[0;34m\u001b[0m\u001b[0;34m\u001b[0m\u001b[0m\n\u001b[0;32m---> 10\u001b[0;31m \u001b[0mprint\u001b[0m\u001b[0;34m(\u001b[0m\u001b[0mobj\u001b[0m\u001b[0;34m.\u001b[0m\u001b[0m__c\u001b[0m\u001b[0;34m)\u001b[0m\u001b[0;34m\u001b[0m\u001b[0;34m\u001b[0m\u001b[0m\n\u001b[0m",
      "\u001b[0;31mAttributeError\u001b[0m: 'Robot' object has no attribute '__c'"
     ]
    }
   ],
   "source": [
    "class Robot(object):\n",
    "    def __init__(self):\n",
    "      self.a = 123 #public variable\n",
    "      self._b = 345 #protected variable\n",
    "      self.__c = 678 #private variable\n",
    "\n",
    "obj = Robot()\n",
    "print(obj.a)\n",
    "print(obj._b)\n",
    "print(obj.__c)"
   ]
  },
  {
   "cell_type": "code",
   "execution_count": 8,
   "id": "687d9d20-053e-439f-b977-20cbf0bd7e65",
   "metadata": {},
   "outputs": [
    {
     "name": "stdout",
     "output_type": "stream",
     "text": [
      "22\n",
      "32222\n"
     ]
    }
   ],
   "source": [
    "class Robot(object):\n",
    "   def __init__(self):\n",
    "      self.__version = 22\n",
    "\n",
    "   def getVersion(self):\n",
    "      print(self.__version)\n",
    "\n",
    "   def setVersion(self, version):\n",
    "      self.__version = version\n",
    "\n",
    "obj = Robot()\n",
    "obj.getVersion()\n",
    "obj.__version =34 \n",
    "###print(\"updated\",obj.getVersion())\n",
    "obj.setVersion(32222)\n",
    "obj.getVersion()"
   ]
  },
  {
   "cell_type": "code",
   "execution_count": 13,
   "id": "31a9ff10-cd70-4ec2-b41f-521323a15af6",
   "metadata": {},
   "outputs": [
    {
     "name": "stdout",
     "output_type": "stream",
     "text": [
      "22\n",
      "32222\n",
      "32222\n"
     ]
    }
   ],
   "source": [
    "class Robot(object):\n",
    "   def __init__(self):\n",
    "      self.__version = 22\n",
    "\n",
    "   def getVersion(self):\n",
    "      print(self.__version)\n",
    "      return self.__version  \n",
    "\n",
    "   def setVersion(self, version):\n",
    "      self.__version = version\n",
    "\n",
    "obj = Robot()\n",
    "obj.getVersion()\n",
    "obj.__version =34 \n",
    "###print(\"updated\",obj.getVersion())\n",
    "obj.setVersion(32222)\n",
    "#obj.getVersion()\n",
    "a=obj.getVersion()\n",
    "print(a)\n",
    "\n"
   ]
  },
  {
   "cell_type": "code",
   "execution_count": 16,
   "id": "b4397483-4bbf-4b93-9285-ea1351bad87d",
   "metadata": {},
   "outputs": [
    {
     "name": "stdout",
     "output_type": "stream",
     "text": [
      "updating software\n",
      "driving\n"
     ]
    }
   ],
   "source": [
    "class Car:\n",
    "\n",
    "    def __init__(self):\n",
    "        self.__updateSoftware()\n",
    "\n",
    "    def drive(self):\n",
    "        print ('driving')\n",
    "\n",
    "    def __updateSoftware(self):\n",
    "        print ('updating software')\n",
    "redcar = Car()\n",
    "redcar.drive()\n",
    "#redcar.__updateSoftware()  #not accesible from object.\n",
    "\n"
   ]
  },
  {
   "cell_type": "code",
   "execution_count": 19,
   "id": "9eb340f1-ca20-474a-a009-57e1a370ce0c",
   "metadata": {},
   "outputs": [
    {
     "name": "stdout",
     "output_type": "stream",
     "text": [
      "updating software\n",
      "driving\n",
      "Software Updated\n"
     ]
    }
   ],
   "source": [
    "class Car:\n",
    "\n",
    "    def __init__(self):\n",
    "        self.__updateSoftware()\n",
    "     \n",
    "    def updateSoftware(self):\n",
    "        print(\"Software Updated\")\n",
    "\n",
    "    def drive(self):\n",
    "        print ('driving')\n",
    "\n",
    "    def __updateSoftware(self):\n",
    "        print ('updating software')\n",
    "redcar = Car()\n",
    "redcar.drive()\n",
    "redcar.updateSoftware()"
   ]
  },
  {
   "cell_type": "code",
   "execution_count": 20,
   "id": "5f22cd40-90d1-4d59-8618-1736964d770b",
   "metadata": {},
   "outputs": [
    {
     "name": "stdout",
     "output_type": "stream",
     "text": [
      "Parrot can fly\n",
      "Penguin can't fly\n"
     ]
    }
   ],
   "source": [
    "class Parrot:\n",
    "\n",
    "    def fly(self):\n",
    "        print(\"Parrot can fly\")\n",
    "\n",
    "    def swim(self):\n",
    "        print(\"Parrot can't swim\")\n",
    "\n",
    "class Penguin:\n",
    "\n",
    "    def fly(self):\n",
    "        print(\"Penguin can't fly\")\n",
    "\n",
    "    def swim(self):\n",
    "        print(\"Penguin can swim\")\n",
    "\n",
    "# common interface\n",
    "def flying_test(bird):\n",
    "    bird.fly()\n",
    "\n",
    "#instantiate objects\n",
    "blu = Parrot()\n",
    "peggy = Penguin()\n",
    "\n",
    "# passing the object\n",
    "flying_test(blu)\n",
    "flying_test(peggy)"
   ]
  },
  {
   "cell_type": "code",
   "execution_count": null,
   "id": "4d0f452d-efff-4de7-8771-df743568a387",
   "metadata": {},
   "outputs": [],
   "source": []
  }
 ],
 "metadata": {
  "kernelspec": {
   "display_name": "Python 3 (ipykernel)",
   "language": "python",
   "name": "python3"
  },
  "language_info": {
   "codemirror_mode": {
    "name": "ipython",
    "version": 3
   },
   "file_extension": ".py",
   "mimetype": "text/x-python",
   "name": "python",
   "nbconvert_exporter": "python",
   "pygments_lexer": "ipython3",
   "version": "3.9.7"
  }
 },
 "nbformat": 4,
 "nbformat_minor": 5
}
